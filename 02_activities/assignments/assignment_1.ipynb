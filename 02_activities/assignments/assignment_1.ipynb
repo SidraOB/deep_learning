{
 "cells": [
  {
   "cell_type": "markdown",
   "id": "ba8ab56f",
   "metadata": {},
   "source": [
    "# Advanced Image Classification with ImageNet"
   ]
  },
  {
   "cell_type": "markdown",
   "id": "7c630244b8fe2847",
   "metadata": {
    "collapsed": false
   },
   "source": [
    "In this assignment, you will be asked to develop a convolutional neural network (CNN) to classify images from the CIFAR-100 dataset. At each step, you'll be guided through the process of developing a model architecture to solve a problem. Your goal is to create a CNN that attains at least 55% accuracy on the validation set.\n",
    "\n",
    "### The CIFAR-100 Dataset\n",
    "\n",
    "The [CIFAR-100 dataset](https://www.cs.toronto.edu/~kriz/cifar.html) consists of 60000 32x32 colour images in 100 classes, with 600 images per class. There are 50000 training images and 10000 test images. The dataset is divided into five training batches and one test batch, each with 10000 images. The test batch contains exactly 1000 randomly-selected images from each class. The training batches contain the remaining images in random order, but some training batches may contain more images from one class than another. Between them, the training batches contain exactly 500 images from each class.\n",
    "\n",
    "### Tools\n",
    "\n",
    "You will use Keras with TensorFlow to develop your CNN. For this assignment, it's strongly recommended that you use a GPU to accelerate your training, or else you might find it difficult to train your network in a reasonable amount of time. If you have a computer with a GPU that you wish to use, you can follow the [TensorFlow instructions](https://www.tensorflow.org/install/) for installing TensorFlow with GPU support. Otherwise, you can use [Google Colab](https://colab.research.google.com/) to complete this assignment. Colab provides free access to GPU-enabled machines. If you run into any issues, please contact us as soon as possible so that we can help you resolve them."
   ]
  },
  {
   "cell_type": "markdown",
   "id": "fab62988ece1528d",
   "metadata": {
    "collapsed": false
   },
   "source": [
    "## Task 1: Data Exploration and Preprocessing (Complete or Incomplete)\n",
    "### 1a: Load and Explore the Dataset\n",
    "- Use the code below to download the dataset.\n",
    "- Explore the dataset: examine the shape of the training and test sets, the dimensions of the images, and the number of classes. Show a few examples from the training set."
   ]
  },
  {
   "cell_type": "code",
   "execution_count": 1,
   "id": "8820fcdc5ae52ae2",
   "metadata": {
    "ExecuteTime": {
     "start_time": "2024-01-26T17:04:08.432758Z"
    },
    "collapsed": false,
    "is_executing": true
   },
   "outputs": [],
   "source": [
    "from keras.datasets import cifar100\n",
    "\n",
    "# Load the CIFAR-100 dataset\n",
    "(x_train, y_train), (x_test, y_test) = cifar100.load_data(label_mode='fine')"
   ]
  },
  {
   "cell_type": "code",
   "execution_count": 2,
   "id": "a386b4072078138f",
   "metadata": {
    "collapsed": false
   },
   "outputs": [
    {
     "name": "stdout",
     "output_type": "stream",
     "text": [
      "Training set shape: (50000, 32, 32, 3)\n",
      "Test set shape: (10000, 32, 32, 3)\n",
      "Number of classes: 100\n"
     ]
    },
    {
     "data": {
      "image/png": "[encoded data removed]",
      "text/plain": [
       "<Figure size 1500x1000 with 5 Axes>"
      ]
     },
     "metadata": {},
     "output_type": "display_data"
    }
   ],
   "source": [
    "import matplotlib.pyplot as plt\n",
    "# Your code here\n",
    "# Explore the shape of the dataset\n",
    "print(f\"Training set shape: {x_train.shape}\")\n",
    "print(f\"Test set shape: {x_test.shape}\")\n",
    "print(f\"Number of classes: {len(set(y_train.flatten()))}\")\n",
    "\n",
    "# Show a few examples from the training set\n",
    "fig, axes = plt.subplots(1, 5, figsize=(15, 10))\n",
    "for i in range(5):\n",
    "    axes[i].imshow(x_train[i])  # Display image\n",
    "    axes[i].axis('off')\n",
    "    axes[i].set_title(f\"Class: {y_train[i][0]}\")\n",
    "\n",
    "plt.show()"
   ]
  },
  {
   "cell_type": "markdown",
   "id": "ad49291da3a819ea",
   "metadata": {
    "collapsed": false
   },
   "source": [
    "### 1b: Data Preprocessing (4 Marks)\n",
    "- With the data downloaded, it's time to preprocess it. Start by normalizing the images so that they all have pixel values in the range [0, 1].\n",
    "- Next, convert the labels to one-hot encoded vectors.\n",
    "- Finally, split the training set into training and validation sets. Use 80% of the training set for training and the remaining 20% for validation."
   ]
  },
  {
   "cell_type": "code",
   "execution_count": 3,
   "id": "b18c10172fa72d0c",
   "metadata": {
    "collapsed": false
   },
   "outputs": [
    {
     "name": "stdout",
     "output_type": "stream",
     "text": [
      "Min value in x_train: 0.0, Max value in x_train: 1.0\n"
     ]
    }
   ],
   "source": [
    "# Your code here\n",
    "# Normalize the images by dividing by 255\n",
    "x_train = x_train / 255.0\n",
    "x_test = x_test / 255.0\n",
    "\n",
    "# Verify normalization by checking the min and max pixel values\n",
    "print(f\"Min value in x_train: {x_train.min()}, Max value in x_train: {x_train.max()}\")\n"
   ]
  },
  {
   "cell_type": "code",
   "execution_count": 4,
   "id": "89b5fb9b",
   "metadata": {},
   "outputs": [],
   "source": [
    "from keras.utils import to_categorical\n",
    "\n",
    "\n",
    "# convert the labels to One-hot encoded vectors \n",
    "y_train = to_categorical(y_train, num_classes=100)\n",
    "y_test = to_categorical(y_test, num_classes=100)\n"
   ]
  },
  {
   "cell_type": "code",
   "execution_count": 5,
   "id": "300675b2",
   "metadata": {},
   "outputs": [],
   "source": [
    "from sklearn.model_selection import train_test_split\n",
    "\n",
    "# split the training data into training and validation sets\n",
    "x_train_final, x_val, y_train_final, y_val = train_test_split(x_train, y_train, test_size=0.2, random_state=42)\n"
   ]
  },
  {
   "cell_type": "markdown",
   "id": "5993757f08c89db7",
   "metadata": {
    "collapsed": false
   },
   "source": [
    "## Task 2: Model Development (Complete or Incomplete)\n",
    "### Task 2a: Create a Baseline CNN Model\n",
    "- Design a CNN architecture. Your architecture should use convolutional layers, max pooling layers, and dense layers. You can use any number of layers, and you can experiment with different numbers of filters, filter sizes, strides, padding, etc. The design doesn't need to be perfect, but it should be unique to you.\n",
    "- Print out the model summary."
   ]
  },
  {
   "cell_type": "code",
   "execution_count": 6,
   "id": "c9edafdaf887b8d5",
   "metadata": {
    "collapsed": false
   },
   "outputs": [
    {
     "name": "stderr",
     "output_type": "stream",
     "text": [
      "/opt/miniconda3/envs/dsi_participant/lib/python3.9/site-packages/keras/src/layers/convolutional/base_conv.py:107: UserWarning: Do not pass an `input_shape`/`input_dim` argument to a layer. When using Sequential models, prefer using an `Input(shape)` object as the first layer in the model instead.\n",
      "  super().__init__(activity_regularizer=activity_regularizer, **kwargs)\n"
     ]
    },
    {
     "data": {
      "text/html": [
       "<pre style=\"white-space:pre;overflow-x:auto;line-height:normal;font-family:Menlo,'DejaVu Sans Mono',consolas,'Courier New',monospace\"><span style=\"font-weight: bold\">Model: \"sequential\"</span>\n",
       "</pre>\n"
      ],
      "text/plain": [
       "\u001b[1mModel: \"sequential\"\u001b[0m\n"
      ]
     },
     "metadata": {},
     "output_type": "display_data"
    },
    {
     "data": {
      "text/html": [
       "<pre style=\"white-space:pre;overflow-x:auto;line-height:normal;font-family:Menlo,'DejaVu Sans Mono',consolas,'Courier New',monospace\">┏━━━━━━━━━━━━━━━━━━━━━━━━━━━━━━━━━┳━━━━━━━━━━━━━━━━━━━━━━━━┳━━━━━━━━━━━━━━━┓\n",
       "┃<span style=\"font-weight: bold\"> Layer (type)                    </span>┃<span style=\"font-weight: bold\"> Output Shape           </span>┃<span style=\"font-weight: bold\">       Param # </span>┃\n",
       "┡━━━━━━━━━━━━━━━━━━━━━━━━━━━━━━━━━╇━━━━━━━━━━━━━━━━━━━━━━━━╇━━━━━━━━━━━━━━━┩\n",
       "│ conv2d (<span style=\"color: #0087ff; text-decoration-color: #0087ff\">Conv2D</span>)                 │ (<span style=\"color: #00d7ff; text-decoration-color: #00d7ff\">None</span>, <span style=\"color: #00af00; text-decoration-color: #00af00\">32</span>, <span style=\"color: #00af00; text-decoration-color: #00af00\">32</span>, <span style=\"color: #00af00; text-decoration-color: #00af00\">32</span>)     │           <span style=\"color: #00af00; text-decoration-color: #00af00\">896</span> │\n",
       "├─────────────────────────────────┼────────────────────────┼───────────────┤\n",
       "│ max_pooling2d (<span style=\"color: #0087ff; text-decoration-color: #0087ff\">MaxPooling2D</span>)    │ (<span style=\"color: #00d7ff; text-decoration-color: #00d7ff\">None</span>, <span style=\"color: #00af00; text-decoration-color: #00af00\">16</span>, <span style=\"color: #00af00; text-decoration-color: #00af00\">16</span>, <span style=\"color: #00af00; text-decoration-color: #00af00\">32</span>)     │             <span style=\"color: #00af00; text-decoration-color: #00af00\">0</span> │\n",
       "├─────────────────────────────────┼────────────────────────┼───────────────┤\n",
       "│ conv2d_1 (<span style=\"color: #0087ff; text-decoration-color: #0087ff\">Conv2D</span>)               │ (<span style=\"color: #00d7ff; text-decoration-color: #00d7ff\">None</span>, <span style=\"color: #00af00; text-decoration-color: #00af00\">16</span>, <span style=\"color: #00af00; text-decoration-color: #00af00\">16</span>, <span style=\"color: #00af00; text-decoration-color: #00af00\">64</span>)     │        <span style=\"color: #00af00; text-decoration-color: #00af00\">18,496</span> │\n",
       "├─────────────────────────────────┼────────────────────────┼───────────────┤\n",
       "│ max_pooling2d_1 (<span style=\"color: #0087ff; text-decoration-color: #0087ff\">MaxPooling2D</span>)  │ (<span style=\"color: #00d7ff; text-decoration-color: #00d7ff\">None</span>, <span style=\"color: #00af00; text-decoration-color: #00af00\">8</span>, <span style=\"color: #00af00; text-decoration-color: #00af00\">8</span>, <span style=\"color: #00af00; text-decoration-color: #00af00\">64</span>)       │             <span style=\"color: #00af00; text-decoration-color: #00af00\">0</span> │\n",
       "├─────────────────────────────────┼────────────────────────┼───────────────┤\n",
       "│ conv2d_2 (<span style=\"color: #0087ff; text-decoration-color: #0087ff\">Conv2D</span>)               │ (<span style=\"color: #00d7ff; text-decoration-color: #00d7ff\">None</span>, <span style=\"color: #00af00; text-decoration-color: #00af00\">8</span>, <span style=\"color: #00af00; text-decoration-color: #00af00\">8</span>, <span style=\"color: #00af00; text-decoration-color: #00af00\">128</span>)      │        <span style=\"color: #00af00; text-decoration-color: #00af00\">73,856</span> │\n",
       "├─────────────────────────────────┼────────────────────────┼───────────────┤\n",
       "│ max_pooling2d_2 (<span style=\"color: #0087ff; text-decoration-color: #0087ff\">MaxPooling2D</span>)  │ (<span style=\"color: #00d7ff; text-decoration-color: #00d7ff\">None</span>, <span style=\"color: #00af00; text-decoration-color: #00af00\">4</span>, <span style=\"color: #00af00; text-decoration-color: #00af00\">4</span>, <span style=\"color: #00af00; text-decoration-color: #00af00\">128</span>)      │             <span style=\"color: #00af00; text-decoration-color: #00af00\">0</span> │\n",
       "├─────────────────────────────────┼────────────────────────┼───────────────┤\n",
       "│ flatten (<span style=\"color: #0087ff; text-decoration-color: #0087ff\">Flatten</span>)               │ (<span style=\"color: #00d7ff; text-decoration-color: #00d7ff\">None</span>, <span style=\"color: #00af00; text-decoration-color: #00af00\">2048</span>)           │             <span style=\"color: #00af00; text-decoration-color: #00af00\">0</span> │\n",
       "├─────────────────────────────────┼────────────────────────┼───────────────┤\n",
       "│ dense (<span style=\"color: #0087ff; text-decoration-color: #0087ff\">Dense</span>)                   │ (<span style=\"color: #00d7ff; text-decoration-color: #00d7ff\">None</span>, <span style=\"color: #00af00; text-decoration-color: #00af00\">512</span>)            │     <span style=\"color: #00af00; text-decoration-color: #00af00\">1,049,088</span> │\n",
       "├─────────────────────────────────┼────────────────────────┼───────────────┤\n",
       "│ dropout (<span style=\"color: #0087ff; text-decoration-color: #0087ff\">Dropout</span>)               │ (<span style=\"color: #00d7ff; text-decoration-color: #00d7ff\">None</span>, <span style=\"color: #00af00; text-decoration-color: #00af00\">512</span>)            │             <span style=\"color: #00af00; text-decoration-color: #00af00\">0</span> │\n",
       "├─────────────────────────────────┼────────────────────────┼───────────────┤\n",
       "│ dense_1 (<span style=\"color: #0087ff; text-decoration-color: #0087ff\">Dense</span>)                 │ (<span style=\"color: #00d7ff; text-decoration-color: #00d7ff\">None</span>, <span style=\"color: #00af00; text-decoration-color: #00af00\">256</span>)            │       <span style=\"color: #00af00; text-decoration-color: #00af00\">131,328</span> │\n",
       "├─────────────────────────────────┼────────────────────────┼───────────────┤\n",
       "│ dropout_1 (<span style=\"color: #0087ff; text-decoration-color: #0087ff\">Dropout</span>)             │ (<span style=\"color: #00d7ff; text-decoration-color: #00d7ff\">None</span>, <span style=\"color: #00af00; text-decoration-color: #00af00\">256</span>)            │             <span style=\"color: #00af00; text-decoration-color: #00af00\">0</span> │\n",
       "├─────────────────────────────────┼────────────────────────┼───────────────┤\n",
       "│ dense_2 (<span style=\"color: #0087ff; text-decoration-color: #0087ff\">Dense</span>)                 │ (<span style=\"color: #00d7ff; text-decoration-color: #00d7ff\">None</span>, <span style=\"color: #00af00; text-decoration-color: #00af00\">100</span>)            │        <span style=\"color: #00af00; text-decoration-color: #00af00\">25,700</span> │\n",
       "└─────────────────────────────────┴────────────────────────┴───────────────┘\n",
       "</pre>\n"
      ],
      "text/plain": [
       "┏━━━━━━━━━━━━━━━━━━━━━━━━━━━━━━━━━┳━━━━━━━━━━━━━━━━━━━━━━━━┳━━━━━━━━━━━━━━━┓\n",
       "┃\u001b[1m \u001b[0m\u001b[1mLayer (type)                   \u001b[0m\u001b[1m \u001b[0m┃\u001b[1m \u001b[0m\u001b[1mOutput Shape          \u001b[0m\u001b[1m \u001b[0m┃\u001b[1m \u001b[0m\u001b[1m      Param #\u001b[0m\u001b[1m \u001b[0m┃\n",
       "┡━━━━━━━━━━━━━━━━━━━━━━━━━━━━━━━━━╇━━━━━━━━━━━━━━━━━━━━━━━━╇━━━━━━━━━━━━━━━┩\n",
       "│ conv2d (\u001b[38;5;33mConv2D\u001b[0m)                 │ (\u001b[38;5;45mNone\u001b[0m, \u001b[38;5;34m32\u001b[0m, \u001b[38;5;34m32\u001b[0m, \u001b[38;5;34m32\u001b[0m)     │           \u001b[38;5;34m896\u001b[0m │\n",
       "├─────────────────────────────────┼────────────────────────┼───────────────┤\n",
       "│ max_pooling2d (\u001b[38;5;33mMaxPooling2D\u001b[0m)    │ (\u001b[38;5;45mNone\u001b[0m, \u001b[38;5;34m16\u001b[0m, \u001b[38;5;34m16\u001b[0m, \u001b[38;5;34m32\u001b[0m)     │             \u001b[38;5;34m0\u001b[0m │\n",
       "├─────────────────────────────────┼────────────────────────┼───────────────┤\n",
       "│ conv2d_1 (\u001b[38;5;33mConv2D\u001b[0m)               │ (\u001b[38;5;45mNone\u001b[0m, \u001b[38;5;34m16\u001b[0m, \u001b[38;5;34m16\u001b[0m, \u001b[38;5;34m64\u001b[0m)     │        \u001b[38;5;34m18,496\u001b[0m │\n",
       "├─────────────────────────────────┼────────────────────────┼───────────────┤\n",
       "│ max_pooling2d_1 (\u001b[38;5;33mMaxPooling2D\u001b[0m)  │ (\u001b[38;5;45mNone\u001b[0m, \u001b[38;5;34m8\u001b[0m, \u001b[38;5;34m8\u001b[0m, \u001b[38;5;34m64\u001b[0m)       │             \u001b[38;5;34m0\u001b[0m │\n",
       "├─────────────────────────────────┼────────────────────────┼───────────────┤\n",
       "│ conv2d_2 (\u001b[38;5;33mConv2D\u001b[0m)               │ (\u001b[38;5;45mNone\u001b[0m, \u001b[38;5;34m8\u001b[0m, \u001b[38;5;34m8\u001b[0m, \u001b[38;5;34m128\u001b[0m)      │        \u001b[38;5;34m73,856\u001b[0m │\n",
       "├─────────────────────────────────┼────────────────────────┼───────────────┤\n",
       "│ max_pooling2d_2 (\u001b[38;5;33mMaxPooling2D\u001b[0m)  │ (\u001b[38;5;45mNone\u001b[0m, \u001b[38;5;34m4\u001b[0m, \u001b[38;5;34m4\u001b[0m, \u001b[38;5;34m128\u001b[0m)      │             \u001b[38;5;34m0\u001b[0m │\n",
       "├─────────────────────────────────┼────────────────────────┼───────────────┤\n",
       "│ flatten (\u001b[38;5;33mFlatten\u001b[0m)               │ (\u001b[38;5;45mNone\u001b[0m, \u001b[38;5;34m2048\u001b[0m)           │             \u001b[38;5;34m0\u001b[0m │\n",
       "├─────────────────────────────────┼────────────────────────┼───────────────┤\n",
       "│ dense (\u001b[38;5;33mDense\u001b[0m)                   │ (\u001b[38;5;45mNone\u001b[0m, \u001b[38;5;34m512\u001b[0m)            │     \u001b[38;5;34m1,049,088\u001b[0m │\n",
       "├─────────────────────────────────┼────────────────────────┼───────────────┤\n",
       "│ dropout (\u001b[38;5;33mDropout\u001b[0m)               │ (\u001b[38;5;45mNone\u001b[0m, \u001b[38;5;34m512\u001b[0m)            │             \u001b[38;5;34m0\u001b[0m │\n",
       "├─────────────────────────────────┼────────────────────────┼───────────────┤\n",
       "│ dense_1 (\u001b[38;5;33mDense\u001b[0m)                 │ (\u001b[38;5;45mNone\u001b[0m, \u001b[38;5;34m256\u001b[0m)            │       \u001b[38;5;34m131,328\u001b[0m │\n",
       "├─────────────────────────────────┼────────────────────────┼───────────────┤\n",
       "│ dropout_1 (\u001b[38;5;33mDropout\u001b[0m)             │ (\u001b[38;5;45mNone\u001b[0m, \u001b[38;5;34m256\u001b[0m)            │             \u001b[38;5;34m0\u001b[0m │\n",
       "├─────────────────────────────────┼────────────────────────┼───────────────┤\n",
       "│ dense_2 (\u001b[38;5;33mDense\u001b[0m)                 │ (\u001b[38;5;45mNone\u001b[0m, \u001b[38;5;34m100\u001b[0m)            │        \u001b[38;5;34m25,700\u001b[0m │\n",
       "└─────────────────────────────────┴────────────────────────┴───────────────┘\n"
      ]
     },
     "metadata": {},
     "output_type": "display_data"
    },
    {
     "data": {
      "text/html": [
       "<pre style=\"white-space:pre;overflow-x:auto;line-height:normal;font-family:Menlo,'DejaVu Sans Mono',consolas,'Courier New',monospace\"><span style=\"font-weight: bold\"> Total params: </span><span style=\"color: #00af00; text-decoration-color: #00af00\">1,299,364</span> (4.96 MB)\n",
       "</pre>\n"
      ],
      "text/plain": [
       "\u001b[1m Total params: \u001b[0m\u001b[38;5;34m1,299,364\u001b[0m (4.96 MB)\n"
      ]
     },
     "metadata": {},
     "output_type": "display_data"
    },
    {
     "data": {
      "text/html": [
       "<pre style=\"white-space:pre;overflow-x:auto;line-height:normal;font-family:Menlo,'DejaVu Sans Mono',consolas,'Courier New',monospace\"><span style=\"font-weight: bold\"> Trainable params: </span><span style=\"color: #00af00; text-decoration-color: #00af00\">1,299,364</span> (4.96 MB)\n",
       "</pre>\n"
      ],
      "text/plain": [
       "\u001b[1m Trainable params: \u001b[0m\u001b[38;5;34m1,299,364\u001b[0m (4.96 MB)\n"
      ]
     },
     "metadata": {},
     "output_type": "display_data"
    },
    {
     "data": {
      "text/html": [
       "<pre style=\"white-space:pre;overflow-x:auto;line-height:normal;font-family:Menlo,'DejaVu Sans Mono',consolas,'Courier New',monospace\"><span style=\"font-weight: bold\"> Non-trainable params: </span><span style=\"color: #00af00; text-decoration-color: #00af00\">0</span> (0.00 B)\n",
       "</pre>\n"
      ],
      "text/plain": [
       "\u001b[1m Non-trainable params: \u001b[0m\u001b[38;5;34m0\u001b[0m (0.00 B)\n"
      ]
     },
     "metadata": {},
     "output_type": "display_data"
    }
   ],
   "source": [
    "from keras.models import Sequential\n",
    "from keras.layers import Conv2D, MaxPooling2D, Flatten, Dense, Dropout\n",
    "from keras.optimizers import Adam\n",
    "\n",
    "# Your code here\n",
    "# Initialize the model\n",
    "model = Sequential()\n",
    "\n",
    "# 1st Convolutional Block\n",
    "model.add(Conv2D(32, (3, 3), activation='relu', input_shape=(32, 32, 3), padding='same'))  # 32 filters, 3x3 kernel\n",
    "model.add(MaxPooling2D(pool_size=(2, 2)))  # 2x2 max pooling\n",
    "\n",
    "# 2nd Convolutional Block\n",
    "model.add(Conv2D(64, (3, 3), activation='relu', padding='same'))  # 64 filters, 3x3 kernel\n",
    "model.add(MaxPooling2D(pool_size=(2, 2)))  # 2x2 max pooling\n",
    "\n",
    "# 3rd Convolutional Block\n",
    "model.add(Conv2D(128, (3, 3), activation='relu', padding='same'))  # 128 filters, 3x3 kernel\n",
    "model.add(MaxPooling2D(pool_size=(2, 2)))  # 2x2 max pooling\n",
    "\n",
    "# Flatten the output from the convolutional layers\n",
    "model.add(Flatten())\n",
    "\n",
    "# Fully Connected (Dense) Layers\n",
    "model.add(Dense(512, activation='relu'))  # Dense layer with 512 neurons\n",
    "model.add(Dropout(0.5))  # Dropout for regularization\n",
    "\n",
    "model.add(Dense(256, activation='relu'))  # Dense layer with 256 neurons\n",
    "model.add(Dropout(0.5))  # Dropout for regularization\n",
    "\n",
    "# Output Layer\n",
    "model.add(Dense(100, activation='softmax'))  \n",
    "\n",
    "model.summary()\n"
   ]
  },
  {
   "cell_type": "markdown",
   "id": "546324c007c73db5",
   "metadata": {
    "collapsed": false
   },
   "source": [
    "### Task 2b: Compile the model\n",
    "\n",
    "- Select an appropriate loss function and optimizer for your model. These can be ones we have looked at already, or they can be different. \n",
    "- Briefly explain your choices (one or two sentences each).\n",
    "- <b>Loss function:</b> ______Since CIFAR-100 has 100 classes, categorical crossentropy is the ideal loss function to minimize during training for multi-class classification problems.\n",
    "- <b>Optimizer:</b> ______Adam is a popular optimizer well-suited for a wide range of tasks, including image classification, as it generally provides faster convergence and works well with sparse gradients."
   ]
  },
  {
   "cell_type": "code",
   "execution_count": 7,
   "id": "ab39f4ba69d684e9",
   "metadata": {
    "collapsed": false
   },
   "outputs": [],
   "source": [
    "from keras import optimizers\n",
    "\n",
    "# Your code here\n",
    "# Compile the model with Adam optimizer and categorical crossentropy loss\n",
    "model.compile(optimizer=Adam(), loss='categorical_crossentropy', metrics=['accuracy'])\n"
   ]
  },
  {
   "cell_type": "markdown",
   "id": "653fba928413b9f6",
   "metadata": {
    "collapsed": false
   },
   "source": [
    "## Task 3: Model Training and Evaluation (Complete or Incomplete)\n",
    "### Task 3a: Train the Model\n",
    "\n",
    "- Train your model for an appropriate number of epochs. Explain your choice of the number of epochs used - you can change this number before submitting your assignment.\n",
    "- Use a batch size of 32.\n",
    "- Use the validation set for validation."
   ]
  },
  {
   "cell_type": "code",
   "execution_count": 8,
   "id": "9de74f274ad08546",
   "metadata": {
    "collapsed": false
   },
   "outputs": [
    {
     "name": "stdout",
     "output_type": "stream",
     "text": [
      "Epoch 1/25\n",
      "1250/1250 - 24s - 19ms/step - accuracy: 0.0475 - loss: 4.2210 - val_accuracy: 0.0987 - val_loss: 3.8493\n",
      "Epoch 2/25\n",
      "1250/1250 - 24s - 19ms/step - accuracy: 0.1107 - loss: 3.7544 - val_accuracy: 0.1691 - val_loss: 3.4487\n",
      "Epoch 3/25\n",
      "1250/1250 - 25s - 20ms/step - accuracy: 0.1620 - loss: 3.4597 - val_accuracy: 0.2248 - val_loss: 3.1365\n",
      "Epoch 4/25\n",
      "1250/1250 - 24s - 19ms/step - accuracy: 0.2002 - loss: 3.2609 - val_accuracy: 0.2575 - val_loss: 3.0059\n",
      "Epoch 5/25\n",
      "1250/1250 - 26s - 21ms/step - accuracy: 0.2338 - loss: 3.0930 - val_accuracy: 0.2845 - val_loss: 2.8794\n",
      "Epoch 6/25\n",
      "1250/1250 - 24s - 20ms/step - accuracy: 0.2567 - loss: 2.9595 - val_accuracy: 0.2949 - val_loss: 2.8133\n",
      "Epoch 7/25\n",
      "1250/1250 - 26s - 21ms/step - accuracy: 0.2814 - loss: 2.8371 - val_accuracy: 0.3024 - val_loss: 2.7985\n",
      "Epoch 8/25\n",
      "1250/1250 - 26s - 20ms/step - accuracy: 0.3022 - loss: 2.7404 - val_accuracy: 0.3251 - val_loss: 2.6756\n",
      "Epoch 9/25\n",
      "1250/1250 - 25s - 20ms/step - accuracy: 0.3188 - loss: 2.6518 - val_accuracy: 0.3265 - val_loss: 2.6726\n",
      "Epoch 10/25\n",
      "1250/1250 - 26s - 21ms/step - accuracy: 0.3316 - loss: 2.5827 - val_accuracy: 0.3427 - val_loss: 2.6127\n",
      "Epoch 11/25\n",
      "1250/1250 - 25s - 20ms/step - accuracy: 0.3503 - loss: 2.4892 - val_accuracy: 0.3498 - val_loss: 2.5836\n",
      "Epoch 12/25\n",
      "1250/1250 - 26s - 21ms/step - accuracy: 0.3609 - loss: 2.4324 - val_accuracy: 0.3511 - val_loss: 2.5574\n",
      "Epoch 13/25\n",
      "1250/1250 - 26s - 21ms/step - accuracy: 0.3765 - loss: 2.3557 - val_accuracy: 0.3588 - val_loss: 2.5455\n",
      "Epoch 14/25\n",
      "1250/1250 - 25s - 20ms/step - accuracy: 0.3865 - loss: 2.2992 - val_accuracy: 0.3571 - val_loss: 2.5519\n",
      "Epoch 15/25\n",
      "1250/1250 - 25s - 20ms/step - accuracy: 0.4015 - loss: 2.2479 - val_accuracy: 0.3549 - val_loss: 2.5691\n",
      "Epoch 16/25\n",
      "1250/1250 - 25s - 20ms/step - accuracy: 0.4120 - loss: 2.1971 - val_accuracy: 0.3525 - val_loss: 2.5718\n",
      "Epoch 17/25\n",
      "1250/1250 - 25s - 20ms/step - accuracy: 0.4136 - loss: 2.1522 - val_accuracy: 0.3559 - val_loss: 2.6051\n",
      "Epoch 18/25\n",
      "1250/1250 - 26s - 21ms/step - accuracy: 0.4319 - loss: 2.0997 - val_accuracy: 0.3600 - val_loss: 2.5642\n"
     ]
    }
   ],
   "source": [
    "# Your code here\n",
    "from keras.callbacks import EarlyStopping\n",
    "\n",
    "\n",
    "# Train the model\n",
    "history = model.fit(\n",
    "    x_train_final, y_train_final,  # Training data and labels\n",
    "    epochs=25,                 # Number of epochs\n",
    "    batch_size=32,         # Batch size\n",
    "    validation_data=(x_val, y_val), # Validation data\n",
    "    callbacks=[EarlyStopping(monitor='val_loss', patience=5, restore_best_weights=True)],  # Early stopping\n",
    "    verbose=2  \n",
    ")\n",
    "\n",
    "\n"
   ]
  },
  {
   "cell_type": "markdown",
   "id": "b48615c26b99d2e9",
   "metadata": {
    "collapsed": false
   },
   "source": [
    "### Task 3b: Accuracy and other relevant metrics on the test set\n",
    "\n",
    "- Report the accuracy of your model on the test set.\n",
    "- While accuracy is a good metric, there are many other ways to numerically evaluate a model. Report at least one other metric, and explain what it measures and how it is calculated.\n",
    "\n",
    "- <b>Accuracy:</b> ______ 35.83 %\n",
    "- <b>Other metric:</b> ______ Precision\n",
    "- <b>Reason for selection:</b> _____ precision is valuable because CIFAR-100 contains 100 classes, and some of the classes may be visually similar to others. Thus, it's important to evaluate how well the model avoids misclassifying images into incorrect classes (false positives).\n",
    "- <b>Value of metric:</b> ______ 35.74 %\n",
    "- <b>Interpretation of metric value:</b> ______ This value indicates that, across all classes, about 36% of the time, the model's predictions for a class are correct. This is relatively low, which suggests that the model may be struggling with many of the classes, and there's likely a high rate of misclassifications (false positives)."
   ]
  },
  {
   "cell_type": "code",
   "execution_count": 13,
   "id": "f670665fda92fb0e",
   "metadata": {
    "ExecuteTime": {
     "end_time": "2024-01-26T17:49:39.016880Z",
     "start_time": "2024-01-26T17:49:39.012100Z"
    },
    "collapsed": false
   },
   "outputs": [
    {
     "name": "stdout",
     "output_type": "stream",
     "text": [
      "\u001b[1m313/313\u001b[0m \u001b[32m━━━━━━━━━━━━━━━━━━━━\u001b[0m\u001b[37m\u001b[0m \u001b[1m2s\u001b[0m 7ms/step - accuracy: 0.3567 - loss: 2.5530\n",
      "Test Accuracy: 35.83%\n",
      "Test Loss: 2.5422\n"
     ]
    }
   ],
   "source": [
    "# Your code here\n",
    "# Evaluate the model on the test set\n",
    "test_loss, test_accuracy = model.evaluate(x_test, y_test)\n",
    "\n",
    "# Print the accuracy and loss on the test set\n",
    "print(f\"Test Accuracy: {test_accuracy * 100:.2f}%\")\n",
    "print(f\"Test Loss: {test_loss:.4f}\")\n"
   ]
  },
  {
   "cell_type": "code",
   "execution_count": 14,
   "id": "fc0cac32",
   "metadata": {},
   "outputs": [
    {
     "name": "stdout",
     "output_type": "stream",
     "text": [
      "\u001b[1m313/313\u001b[0m \u001b[32m━━━━━━━━━━━━━━━━━━━━\u001b[0m\u001b[37m\u001b[0m \u001b[1m2s\u001b[0m 7ms/step\n",
      "Precision per class:\n",
      "[0.67605634 0.42241379 0.3559322  0.5        0.125      0.21585903\n",
      " 0.36708861 0.41333333 0.37777778 0.5308642  0.24050633 0.25\n",
      " 0.33076923 0.239819   0.26415094 0.17647059 0.49333333 0.4351145\n",
      " 0.304      0.34146341 0.69607843 0.39864865 0.27536232 0.56122449\n",
      " 0.56435644 0.37735849 0.23404255 0.19259259 0.5        0.46551724\n",
      " 0.3452381  0.29770992 0.39705882 0.36567164 0.35227273 0.24444444\n",
      " 0.24822695 0.33606557 0.13513514 0.48648649 0.42307692 0.54237288\n",
      " 0.248      0.29069767 0.20175439 0.17721519 0.19444444 0.6440678\n",
      " 0.44047619 0.48113208 0.18       0.29230769 0.42857143 0.4591195\n",
      " 0.41666667 0.12727273 0.41726619 0.32222222 0.35772358 0.37209302\n",
      " 0.76666667 0.45299145 0.5        0.26815642 0.08       0.28125\n",
      " 0.20779221 0.31182796 0.66071429 0.40384615 0.37096774 0.57943925\n",
      " 0.22727273 0.28368794 0.27777778 0.78666667 0.5210084  0.14150943\n",
      " 0.16260163 0.31325301 0.16666667 0.27659574 0.71698113 0.31168831\n",
      " 0.33333333 0.38255034 0.35042735 0.39726027 0.23684211 0.27894737\n",
      " 0.25490196 0.37414966 0.2421875  0.17777778 0.52845528 0.41791045\n",
      " 0.36       0.22754491 0.15384615 0.4       ]\n",
      "Macro Average Precision: 0.3574\n"
     ]
    }
   ],
   "source": [
    "from sklearn.metrics import precision_score\n",
    "import numpy as np\n",
    "\n",
    "# Predict the class probabilities on the test set\n",
    "y_pred = model.predict(x_test)\n",
    "\n",
    "# Convert predictions from probabilities to class labels (argmax)\n",
    "y_pred_classes = np.argmax(y_pred, axis=1)\n",
    "y_true_classes = np.argmax(y_test, axis=1)\n",
    "\n",
    "# Compute Precision (per class and macro average)\n",
    "precision = precision_score(y_true_classes, y_pred_classes, average=None)  # Precision for each class\n",
    "precision_macro = precision_score(y_true_classes, y_pred_classes, average='macro')  # Macro average precision\n",
    "\n",
    "# Print Precision for each class\n",
    "print(\"Precision per class:\")\n",
    "print(precision)\n",
    "\n",
    "# Print Macro average Precision\n",
    "print(f\"Macro Average Precision: {precision_macro:.4f}\")\n"
   ]
  },
  {
   "cell_type": "markdown",
   "id": "58d2d836d4e8ce99",
   "metadata": {
    "collapsed": false
   },
   "source": [
    "### Task 3c: Visualize the model's learning\n",
    "\n",
    "- Plot the training accuracy and validation accuracy with respect to epochs.\n",
    "- Select an image that the model correctly classified in the test set, and an image that the model incorrectly classified in the test set. Plot the images and report the model's classification probabilities for each.\n",
    "- Briefly discuss the results. What do the plots show? Do the results make sense? What do the classification probabilities indicate?"
   ]
  },
  {
   "cell_type": "code",
   "execution_count": 15,
   "id": "c5b214475a496ca5",
   "metadata": {
    "ExecuteTime": {
     "end_time": "2024-01-26T17:50:59.733968Z",
     "start_time": "2024-01-26T17:50:59.730635Z"
    },
    "collapsed": false
   },
   "outputs": [
    {
     "data": {
      "image/png": "[encoded data removed]",
      "text/plain": [
       "<Figure size 1000x600 with 1 Axes>"
      ]
     },
     "metadata": {},
     "output_type": "display_data"
    }
   ],
   "source": [
    "# Your code here\n",
    "import matplotlib.pyplot as plt\n",
    "\n",
    "# Plotting the training and validation accuracy\n",
    "plt.figure(figsize=(10, 6))\n",
    "plt.plot(history.history['accuracy'], label='Training Accuracy', color='blue')\n",
    "plt.plot(history.history['val_accuracy'], label='Validation Accuracy', color='orange')\n",
    "plt.title('Training and Validation Accuracy')\n",
    "plt.xlabel('Epochs')\n",
    "plt.ylabel('Accuracy')\n",
    "plt.legend()\n",
    "plt.grid(True)\n",
    "plt.show()\n"
   ]
  },
  {
   "cell_type": "markdown",
   "id": "d7d46e05",
   "metadata": {},
   "source": [
    "If the validation accuracy starts to decline after some epochs while training accuracy keeps increasing, this indicates that the model is overfitting and might benefit from techniques like early stopping, regularization, or more data."
   ]
  },
  {
   "cell_type": "code",
   "execution_count": 17,
   "id": "b577f3ce",
   "metadata": {},
   "outputs": [
    {
     "name": "stdout",
     "output_type": "stream",
     "text": [
      "\u001b[1m313/313\u001b[0m \u001b[32m━━━━━━━━━━━━━━━━━━━━\u001b[0m\u001b[37m\u001b[0m \u001b[1m2s\u001b[0m 7ms/step\n",
      "\u001b[1m313/313\u001b[0m \u001b[32m━━━━━━━━━━━━━━━━━━━━\u001b[0m\u001b[37m\u001b[0m \u001b[1m2s\u001b[0m 7ms/step\n",
      "\u001b[1m1/1\u001b[0m \u001b[32m━━━━━━━━━━━━━━━━━━━━\u001b[0m\u001b[37m\u001b[0m \u001b[1m0s\u001b[0m 11ms/step\n",
      "\u001b[1m1/1\u001b[0m \u001b[32m━━━━━━━━━━━━━━━━━━━━\u001b[0m\u001b[37m\u001b[0m \u001b[1m0s\u001b[0m 11ms/step\n"
     ]
    },
    {
     "data": {
      "image/png": "[encoded data removed]",
      "text/plain": [
       "<Figure size 1200x500 with 2 Axes>"
      ]
     },
     "metadata": {},
     "output_type": "display_data"
    },
    {
     "name": "stdout",
     "output_type": "stream",
     "text": [
      "Correctly classified image probabilities: [[9.46208747e-05 7.53761651e-06 6.88873406e-05 3.47667257e-04\n",
      "  2.12818314e-03 1.32918501e-06 3.72485793e-03 1.11210823e-01\n",
      "  2.91445819e-08 4.62579919e-05 1.16720516e-03 1.77003812e-06\n",
      "  4.00731315e-09 1.02435145e-07 1.24554010e-02 1.97524540e-04\n",
      "  2.27567052e-05 3.82166121e-09 1.38568471e-03 4.19526550e-05\n",
      "  3.78325603e-05 6.23772451e-07 7.90467493e-06 3.12135540e-10\n",
      "  6.83528900e-01 1.98675170e-05 2.65886448e-03 2.57981137e-05\n",
      "  3.20520758e-06 2.28213277e-04 1.06962787e-07 1.21671320e-07\n",
      "  1.64226000e-03 1.79828663e-09 9.67626256e-05 3.63734489e-06\n",
      "  8.51474942e-06 1.50271173e-08 2.40480003e-05 1.98758926e-07\n",
      "  1.20557643e-05 6.22357416e-04 2.70323337e-08 1.13976944e-06\n",
      "  3.93605995e-04 5.86065289e-04 2.69406740e-07 1.57825434e-05\n",
      "  2.69241218e-06 2.18991647e-09 5.76602388e-03 2.02580077e-06\n",
      "  4.30114149e-08 4.15453724e-06 4.23917800e-06 2.53546378e-03\n",
      "  3.64951489e-07 2.19414802e-03 9.04520391e-07 1.77485308e-05\n",
      "  2.62834621e-09 6.92515641e-06 1.26882151e-06 7.55524146e-04\n",
      "  1.91039635e-05 3.33886012e-04 2.68742792e-06 3.61977471e-03\n",
      "  2.83153501e-10 4.39420660e-07 1.94420390e-05 1.24818255e-11\n",
      "  3.49892653e-03 4.41092567e-07 1.06553000e-03 6.87788925e-05\n",
      "  5.41998946e-10 1.47391737e-01 6.69321962e-05 1.15973002e-03\n",
      "  3.62558756e-04 1.19141177e-07 1.08897930e-05 2.55587714e-04\n",
      "  2.40351915e-06 1.86458201e-05 1.64630488e-04 4.50864292e-07\n",
      "  6.65584139e-07 1.81975338e-05 3.04700620e-06 7.02144753e-05\n",
      "  2.26352245e-06 7.70975742e-03 3.46591946e-08 6.48379819e-06\n",
      "  2.25354552e-06 2.92758017e-07 1.10561200e-06 1.06482394e-05]]\n",
      "Incorrectly classified image probabilities: [[2.85712071e-04 6.14563818e-04 1.32741116e-03 3.84331984e-03\n",
      "  2.35668197e-03 4.99922840e-04 2.50570536e-01 1.78707168e-02\n",
      "  1.02987755e-02 2.71692942e-03 7.85697775e-04 7.49625848e-04\n",
      "  3.61325830e-04 3.64301639e-04 2.70512886e-02 2.51533892e-02\n",
      "  2.70591909e-03 2.09388352e-04 1.45317614e-02 1.59720704e-02\n",
      "  1.04123238e-03 3.53392716e-05 2.50198855e-03 2.34499566e-06\n",
      "  6.97106216e-03 1.13032036e-03 4.14085165e-02 1.82548107e-03\n",
      "  3.39103688e-04 3.58131230e-02 7.77575224e-06 1.85972173e-03\n",
      "  1.15577190e-03 2.37675291e-03 9.95747522e-02 1.52862421e-03\n",
      "  4.81635844e-03 2.17944686e-03 7.39406422e-03 1.50893885e-03\n",
      "  8.40789813e-04 5.12357103e-04 1.01106083e-02 1.91102084e-02\n",
      "  4.01556157e-02 2.86108553e-02 3.07147595e-04 1.07280631e-03\n",
      "  2.82550463e-03 5.30775287e-06 8.06181226e-03 9.19806678e-03\n",
      "  2.54324732e-05 3.93200619e-03 1.09198340e-03 1.76488387e-03\n",
      "  1.27360388e-03 1.70759279e-02 3.13796772e-05 4.10536828e-04\n",
      "  7.73723514e-06 2.24902658e-04 1.14727583e-04 7.52128195e-04\n",
      "  1.12348958e-03 1.46554632e-03 1.13705220e-03 1.49054598e-04\n",
      "  3.40094412e-05 5.16399705e-05 8.60197644e-04 9.23760240e-07\n",
      "  6.33278687e-04 6.33391028e-06 1.69047795e-03 6.77351272e-05\n",
      "  8.78781975e-06 1.00253439e-02 3.00058443e-02 2.92268824e-02\n",
      "  9.75590758e-03 6.55161624e-04 4.36481927e-03 2.12194142e-03\n",
      "  1.61153767e-02 7.47224767e-05 3.13151628e-04 3.63331172e-04\n",
      "  1.13234989e-01 2.22773105e-02 3.99909477e-04 1.79201353e-03\n",
      "  8.20341113e-04 4.76173824e-03 3.72323528e-04 1.69477801e-06\n",
      "  1.06013927e-03 1.86648057e-03 1.63396553e-03 2.27169832e-03]]\n"
     ]
    }
   ],
   "source": [
    "\n",
    "# Randomly select an image index from the test set\n",
    "correct_idx = np.argmax(y_test, axis=1) == np.argmax(model.predict(x_test), axis=1)\n",
    "incorrect_idx = np.argmax(y_test, axis=1) != np.argmax(model.predict(x_test), axis=1)\n",
    "\n",
    "# Correctly classified image\n",
    "correct_image_idx = np.random.choice(np.where(correct_idx)[0])\n",
    "correct_image = x_test[correct_image_idx]\n",
    "correct_label = y_test[correct_image_idx]\n",
    "correct_pred = model.predict(np.expand_dims(correct_image, axis=0))\n",
    "correct_pred_label = np.argmax(correct_pred)\n",
    "\n",
    "# Incorrectly classified image\n",
    "incorrect_image_idx = np.random.choice(np.where(incorrect_idx)[0])\n",
    "incorrect_image = x_test[incorrect_image_idx]\n",
    "incorrect_label = y_test[incorrect_image_idx]\n",
    "incorrect_pred = model.predict(np.expand_dims(incorrect_image, axis=0))\n",
    "incorrect_pred_label = np.argmax(incorrect_pred)\n",
    "\n",
    "# Plotting the correctly classified image\n",
    "plt.figure(figsize=(12, 5))\n",
    "plt.subplot(1, 2, 1)\n",
    "plt.imshow(correct_image)\n",
    "plt.title(f\"True: {np.argmax(correct_label)}, Pred: {correct_pred_label}\")\n",
    "plt.axis('off')\n",
    "\n",
    "# Plotting the incorrectly classified image\n",
    "plt.subplot(1, 2, 2)\n",
    "plt.imshow(incorrect_image)\n",
    "plt.title(f\"True: {np.argmax(incorrect_label)}, Pred: {incorrect_pred_label}\")\n",
    "plt.axis('off')\n",
    "\n",
    "plt.show()\n",
    "\n",
    "# Print model probabilities for both images\n",
    "print(f\"Correctly classified image probabilities: {correct_pred}\")\n",
    "print(f\"Incorrectly classified image probabilities: {incorrect_pred}\")\n"
   ]
  },
  {
   "cell_type": "markdown",
   "id": "95384b03",
   "metadata": {},
   "source": [
    "Classification probabilities indicate the model's confidence in its predictions. High confidence in correct predictions is ideal, while low confidence (for both correct and incorrect predictions) may suggest the need for model improvement (e.g., more training or better architecture)."
   ]
  },
  {
   "cell_type": "markdown",
   "id": "a648758ebea0561d",
   "metadata": {
    "collapsed": false
   },
   "source": [
    "## Task 4: Model Enhancement (Complete or Incomplete)\n",
    "### Task 4a: Implementation of at least one advanced technique\n",
    "\n",
    "- Now it's time to improve your model. Implement at least one technique to improve your model's performance. You can use any of the techniques we have covered in class, or you can use a technique that we haven't covered. If you need inspiration, you can refer to the [Keras documentation](https://keras.io/).\n",
    "- Explain the technique you used and why you chose it.\n",
    "- If you used a technique that requires tuning, explain how you selected the values for the hyperparameters."
   ]
  },
  {
   "cell_type": "markdown",
   "id": "9c82b861",
   "metadata": {},
   "source": [
    "To improbe the model's Performance, i will use Batch Normalization and SGD optimizer with learning rate 0.01.\n",
    "\n",
    "### Batch Normalization\n",
    "Batch Normalization helps to normalize the inputs of each layer, making the training more stable and faster. It reduces the internal covariate shift by ensuring that the input to each layer has a stable distribution of activations.\n"
   ]
  },
  {
   "cell_type": "code",
   "execution_count": 47,
   "id": "084b6cff",
   "metadata": {},
   "outputs": [
    {
     "name": "stderr",
     "output_type": "stream",
     "text": [
      "/opt/miniconda3/envs/dsi_participant/lib/python3.9/site-packages/keras/src/layers/convolutional/base_conv.py:107: UserWarning: Do not pass an `input_shape`/`input_dim` argument to a layer. When using Sequential models, prefer using an `Input(shape)` object as the first layer in the model instead.\n",
      "  super().__init__(activity_regularizer=activity_regularizer, **kwargs)\n"
     ]
    },
    {
     "data": {
      "text/html": [
       "<pre style=\"white-space:pre;overflow-x:auto;line-height:normal;font-family:Menlo,'DejaVu Sans Mono',consolas,'Courier New',monospace\"><span style=\"font-weight: bold\">Model: \"sequential_4\"</span>\n",
       "</pre>\n"
      ],
      "text/plain": [
       "\u001b[1mModel: \"sequential_4\"\u001b[0m\n"
      ]
     },
     "metadata": {},
     "output_type": "display_data"
    },
    {
     "data": {
      "text/html": [
       "<pre style=\"white-space:pre;overflow-x:auto;line-height:normal;font-family:Menlo,'DejaVu Sans Mono',consolas,'Courier New',monospace\">┏━━━━━━━━━━━━━━━━━━━━━━━━━━━━━━━━━┳━━━━━━━━━━━━━━━━━━━━━━━━┳━━━━━━━━━━━━━━━┓\n",
       "┃<span style=\"font-weight: bold\"> Layer (type)                    </span>┃<span style=\"font-weight: bold\"> Output Shape           </span>┃<span style=\"font-weight: bold\">       Param # </span>┃\n",
       "┡━━━━━━━━━━━━━━━━━━━━━━━━━━━━━━━━━╇━━━━━━━━━━━━━━━━━━━━━━━━╇━━━━━━━━━━━━━━━┩\n",
       "│ conv2d_12 (<span style=\"color: #0087ff; text-decoration-color: #0087ff\">Conv2D</span>)              │ (<span style=\"color: #00d7ff; text-decoration-color: #00d7ff\">None</span>, <span style=\"color: #00af00; text-decoration-color: #00af00\">32</span>, <span style=\"color: #00af00; text-decoration-color: #00af00\">32</span>, <span style=\"color: #00af00; text-decoration-color: #00af00\">32</span>)     │           <span style=\"color: #00af00; text-decoration-color: #00af00\">896</span> │\n",
       "├─────────────────────────────────┼────────────────────────┼───────────────┤\n",
       "│ batch_normalization_9           │ (<span style=\"color: #00d7ff; text-decoration-color: #00d7ff\">None</span>, <span style=\"color: #00af00; text-decoration-color: #00af00\">32</span>, <span style=\"color: #00af00; text-decoration-color: #00af00\">32</span>, <span style=\"color: #00af00; text-decoration-color: #00af00\">32</span>)     │           <span style=\"color: #00af00; text-decoration-color: #00af00\">128</span> │\n",
       "│ (<span style=\"color: #0087ff; text-decoration-color: #0087ff\">BatchNormalization</span>)            │                        │               │\n",
       "├─────────────────────────────────┼────────────────────────┼───────────────┤\n",
       "│ activation_6 (<span style=\"color: #0087ff; text-decoration-color: #0087ff\">Activation</span>)       │ (<span style=\"color: #00d7ff; text-decoration-color: #00d7ff\">None</span>, <span style=\"color: #00af00; text-decoration-color: #00af00\">32</span>, <span style=\"color: #00af00; text-decoration-color: #00af00\">32</span>, <span style=\"color: #00af00; text-decoration-color: #00af00\">32</span>)     │             <span style=\"color: #00af00; text-decoration-color: #00af00\">0</span> │\n",
       "├─────────────────────────────────┼────────────────────────┼───────────────┤\n",
       "│ max_pooling2d_12 (<span style=\"color: #0087ff; text-decoration-color: #0087ff\">MaxPooling2D</span>) │ (<span style=\"color: #00d7ff; text-decoration-color: #00d7ff\">None</span>, <span style=\"color: #00af00; text-decoration-color: #00af00\">16</span>, <span style=\"color: #00af00; text-decoration-color: #00af00\">16</span>, <span style=\"color: #00af00; text-decoration-color: #00af00\">32</span>)     │             <span style=\"color: #00af00; text-decoration-color: #00af00\">0</span> │\n",
       "├─────────────────────────────────┼────────────────────────┼───────────────┤\n",
       "│ conv2d_13 (<span style=\"color: #0087ff; text-decoration-color: #0087ff\">Conv2D</span>)              │ (<span style=\"color: #00d7ff; text-decoration-color: #00d7ff\">None</span>, <span style=\"color: #00af00; text-decoration-color: #00af00\">16</span>, <span style=\"color: #00af00; text-decoration-color: #00af00\">16</span>, <span style=\"color: #00af00; text-decoration-color: #00af00\">64</span>)     │        <span style=\"color: #00af00; text-decoration-color: #00af00\">18,496</span> │\n",
       "├─────────────────────────────────┼────────────────────────┼───────────────┤\n",
       "│ batch_normalization_10          │ (<span style=\"color: #00d7ff; text-decoration-color: #00d7ff\">None</span>, <span style=\"color: #00af00; text-decoration-color: #00af00\">16</span>, <span style=\"color: #00af00; text-decoration-color: #00af00\">16</span>, <span style=\"color: #00af00; text-decoration-color: #00af00\">64</span>)     │           <span style=\"color: #00af00; text-decoration-color: #00af00\">256</span> │\n",
       "│ (<span style=\"color: #0087ff; text-decoration-color: #0087ff\">BatchNormalization</span>)            │                        │               │\n",
       "├─────────────────────────────────┼────────────────────────┼───────────────┤\n",
       "│ activation_7 (<span style=\"color: #0087ff; text-decoration-color: #0087ff\">Activation</span>)       │ (<span style=\"color: #00d7ff; text-decoration-color: #00d7ff\">None</span>, <span style=\"color: #00af00; text-decoration-color: #00af00\">16</span>, <span style=\"color: #00af00; text-decoration-color: #00af00\">16</span>, <span style=\"color: #00af00; text-decoration-color: #00af00\">64</span>)     │             <span style=\"color: #00af00; text-decoration-color: #00af00\">0</span> │\n",
       "├─────────────────────────────────┼────────────────────────┼───────────────┤\n",
       "│ max_pooling2d_13 (<span style=\"color: #0087ff; text-decoration-color: #0087ff\">MaxPooling2D</span>) │ (<span style=\"color: #00d7ff; text-decoration-color: #00d7ff\">None</span>, <span style=\"color: #00af00; text-decoration-color: #00af00\">8</span>, <span style=\"color: #00af00; text-decoration-color: #00af00\">8</span>, <span style=\"color: #00af00; text-decoration-color: #00af00\">64</span>)       │             <span style=\"color: #00af00; text-decoration-color: #00af00\">0</span> │\n",
       "├─────────────────────────────────┼────────────────────────┼───────────────┤\n",
       "│ conv2d_14 (<span style=\"color: #0087ff; text-decoration-color: #0087ff\">Conv2D</span>)              │ (<span style=\"color: #00d7ff; text-decoration-color: #00d7ff\">None</span>, <span style=\"color: #00af00; text-decoration-color: #00af00\">8</span>, <span style=\"color: #00af00; text-decoration-color: #00af00\">8</span>, <span style=\"color: #00af00; text-decoration-color: #00af00\">128</span>)      │        <span style=\"color: #00af00; text-decoration-color: #00af00\">73,856</span> │\n",
       "├─────────────────────────────────┼────────────────────────┼───────────────┤\n",
       "│ batch_normalization_11          │ (<span style=\"color: #00d7ff; text-decoration-color: #00d7ff\">None</span>, <span style=\"color: #00af00; text-decoration-color: #00af00\">8</span>, <span style=\"color: #00af00; text-decoration-color: #00af00\">8</span>, <span style=\"color: #00af00; text-decoration-color: #00af00\">128</span>)      │           <span style=\"color: #00af00; text-decoration-color: #00af00\">512</span> │\n",
       "│ (<span style=\"color: #0087ff; text-decoration-color: #0087ff\">BatchNormalization</span>)            │                        │               │\n",
       "├─────────────────────────────────┼────────────────────────┼───────────────┤\n",
       "│ activation_8 (<span style=\"color: #0087ff; text-decoration-color: #0087ff\">Activation</span>)       │ (<span style=\"color: #00d7ff; text-decoration-color: #00d7ff\">None</span>, <span style=\"color: #00af00; text-decoration-color: #00af00\">8</span>, <span style=\"color: #00af00; text-decoration-color: #00af00\">8</span>, <span style=\"color: #00af00; text-decoration-color: #00af00\">128</span>)      │             <span style=\"color: #00af00; text-decoration-color: #00af00\">0</span> │\n",
       "├─────────────────────────────────┼────────────────────────┼───────────────┤\n",
       "│ max_pooling2d_14 (<span style=\"color: #0087ff; text-decoration-color: #0087ff\">MaxPooling2D</span>) │ (<span style=\"color: #00d7ff; text-decoration-color: #00d7ff\">None</span>, <span style=\"color: #00af00; text-decoration-color: #00af00\">4</span>, <span style=\"color: #00af00; text-decoration-color: #00af00\">4</span>, <span style=\"color: #00af00; text-decoration-color: #00af00\">128</span>)      │             <span style=\"color: #00af00; text-decoration-color: #00af00\">0</span> │\n",
       "├─────────────────────────────────┼────────────────────────┼───────────────┤\n",
       "│ flatten_4 (<span style=\"color: #0087ff; text-decoration-color: #0087ff\">Flatten</span>)             │ (<span style=\"color: #00d7ff; text-decoration-color: #00d7ff\">None</span>, <span style=\"color: #00af00; text-decoration-color: #00af00\">2048</span>)           │             <span style=\"color: #00af00; text-decoration-color: #00af00\">0</span> │\n",
       "├─────────────────────────────────┼────────────────────────┼───────────────┤\n",
       "│ dense_11 (<span style=\"color: #0087ff; text-decoration-color: #0087ff\">Dense</span>)                │ (<span style=\"color: #00d7ff; text-decoration-color: #00d7ff\">None</span>, <span style=\"color: #00af00; text-decoration-color: #00af00\">512</span>)            │     <span style=\"color: #00af00; text-decoration-color: #00af00\">1,049,088</span> │\n",
       "├─────────────────────────────────┼────────────────────────┼───────────────┤\n",
       "│ dropout_10 (<span style=\"color: #0087ff; text-decoration-color: #0087ff\">Dropout</span>)            │ (<span style=\"color: #00d7ff; text-decoration-color: #00d7ff\">None</span>, <span style=\"color: #00af00; text-decoration-color: #00af00\">512</span>)            │             <span style=\"color: #00af00; text-decoration-color: #00af00\">0</span> │\n",
       "├─────────────────────────────────┼────────────────────────┼───────────────┤\n",
       "│ dense_12 (<span style=\"color: #0087ff; text-decoration-color: #0087ff\">Dense</span>)                │ (<span style=\"color: #00d7ff; text-decoration-color: #00d7ff\">None</span>, <span style=\"color: #00af00; text-decoration-color: #00af00\">256</span>)            │       <span style=\"color: #00af00; text-decoration-color: #00af00\">131,328</span> │\n",
       "├─────────────────────────────────┼────────────────────────┼───────────────┤\n",
       "│ dropout_11 (<span style=\"color: #0087ff; text-decoration-color: #0087ff\">Dropout</span>)            │ (<span style=\"color: #00d7ff; text-decoration-color: #00d7ff\">None</span>, <span style=\"color: #00af00; text-decoration-color: #00af00\">256</span>)            │             <span style=\"color: #00af00; text-decoration-color: #00af00\">0</span> │\n",
       "├─────────────────────────────────┼────────────────────────┼───────────────┤\n",
       "│ dense_13 (<span style=\"color: #0087ff; text-decoration-color: #0087ff\">Dense</span>)                │ (<span style=\"color: #00d7ff; text-decoration-color: #00d7ff\">None</span>, <span style=\"color: #00af00; text-decoration-color: #00af00\">100</span>)            │        <span style=\"color: #00af00; text-decoration-color: #00af00\">25,700</span> │\n",
       "└─────────────────────────────────┴────────────────────────┴───────────────┘\n",
       "</pre>\n"
      ],
      "text/plain": [
       "┏━━━━━━━━━━━━━━━━━━━━━━━━━━━━━━━━━┳━━━━━━━━━━━━━━━━━━━━━━━━┳━━━━━━━━━━━━━━━┓\n",
       "┃\u001b[1m \u001b[0m\u001b[1mLayer (type)                   \u001b[0m\u001b[1m \u001b[0m┃\u001b[1m \u001b[0m\u001b[1mOutput Shape          \u001b[0m\u001b[1m \u001b[0m┃\u001b[1m \u001b[0m\u001b[1m      Param #\u001b[0m\u001b[1m \u001b[0m┃\n",
       "┡━━━━━━━━━━━━━━━━━━━━━━━━━━━━━━━━━╇━━━━━━━━━━━━━━━━━━━━━━━━╇━━━━━━━━━━━━━━━┩\n",
       "│ conv2d_12 (\u001b[38;5;33mConv2D\u001b[0m)              │ (\u001b[38;5;45mNone\u001b[0m, \u001b[38;5;34m32\u001b[0m, \u001b[38;5;34m32\u001b[0m, \u001b[38;5;34m32\u001b[0m)     │           \u001b[38;5;34m896\u001b[0m │\n",
       "├─────────────────────────────────┼────────────────────────┼───────────────┤\n",
       "│ batch_normalization_9           │ (\u001b[38;5;45mNone\u001b[0m, \u001b[38;5;34m32\u001b[0m, \u001b[38;5;34m32\u001b[0m, \u001b[38;5;34m32\u001b[0m)     │           \u001b[38;5;34m128\u001b[0m │\n",
       "│ (\u001b[38;5;33mBatchNormalization\u001b[0m)            │                        │               │\n",
       "├─────────────────────────────────┼────────────────────────┼───────────────┤\n",
       "│ activation_6 (\u001b[38;5;33mActivation\u001b[0m)       │ (\u001b[38;5;45mNone\u001b[0m, \u001b[38;5;34m32\u001b[0m, \u001b[38;5;34m32\u001b[0m, \u001b[38;5;34m32\u001b[0m)     │             \u001b[38;5;34m0\u001b[0m │\n",
       "├─────────────────────────────────┼────────────────────────┼───────────────┤\n",
       "│ max_pooling2d_12 (\u001b[38;5;33mMaxPooling2D\u001b[0m) │ (\u001b[38;5;45mNone\u001b[0m, \u001b[38;5;34m16\u001b[0m, \u001b[38;5;34m16\u001b[0m, \u001b[38;5;34m32\u001b[0m)     │             \u001b[38;5;34m0\u001b[0m │\n",
       "├─────────────────────────────────┼────────────────────────┼───────────────┤\n",
       "│ conv2d_13 (\u001b[38;5;33mConv2D\u001b[0m)              │ (\u001b[38;5;45mNone\u001b[0m, \u001b[38;5;34m16\u001b[0m, \u001b[38;5;34m16\u001b[0m, \u001b[38;5;34m64\u001b[0m)     │        \u001b[38;5;34m18,496\u001b[0m │\n",
       "├─────────────────────────────────┼────────────────────────┼───────────────┤\n",
       "│ batch_normalization_10          │ (\u001b[38;5;45mNone\u001b[0m, \u001b[38;5;34m16\u001b[0m, \u001b[38;5;34m16\u001b[0m, \u001b[38;5;34m64\u001b[0m)     │           \u001b[38;5;34m256\u001b[0m │\n",
       "│ (\u001b[38;5;33mBatchNormalization\u001b[0m)            │                        │               │\n",
       "├─────────────────────────────────┼────────────────────────┼───────────────┤\n",
       "│ activation_7 (\u001b[38;5;33mActivation\u001b[0m)       │ (\u001b[38;5;45mNone\u001b[0m, \u001b[38;5;34m16\u001b[0m, \u001b[38;5;34m16\u001b[0m, \u001b[38;5;34m64\u001b[0m)     │             \u001b[38;5;34m0\u001b[0m │\n",
       "├─────────────────────────────────┼────────────────────────┼───────────────┤\n",
       "│ max_pooling2d_13 (\u001b[38;5;33mMaxPooling2D\u001b[0m) │ (\u001b[38;5;45mNone\u001b[0m, \u001b[38;5;34m8\u001b[0m, \u001b[38;5;34m8\u001b[0m, \u001b[38;5;34m64\u001b[0m)       │             \u001b[38;5;34m0\u001b[0m │\n",
       "├─────────────────────────────────┼────────────────────────┼───────────────┤\n",
       "│ conv2d_14 (\u001b[38;5;33mConv2D\u001b[0m)              │ (\u001b[38;5;45mNone\u001b[0m, \u001b[38;5;34m8\u001b[0m, \u001b[38;5;34m8\u001b[0m, \u001b[38;5;34m128\u001b[0m)      │        \u001b[38;5;34m73,856\u001b[0m │\n",
       "├─────────────────────────────────┼────────────────────────┼───────────────┤\n",
       "│ batch_normalization_11          │ (\u001b[38;5;45mNone\u001b[0m, \u001b[38;5;34m8\u001b[0m, \u001b[38;5;34m8\u001b[0m, \u001b[38;5;34m128\u001b[0m)      │           \u001b[38;5;34m512\u001b[0m │\n",
       "│ (\u001b[38;5;33mBatchNormalization\u001b[0m)            │                        │               │\n",
       "├─────────────────────────────────┼────────────────────────┼───────────────┤\n",
       "│ activation_8 (\u001b[38;5;33mActivation\u001b[0m)       │ (\u001b[38;5;45mNone\u001b[0m, \u001b[38;5;34m8\u001b[0m, \u001b[38;5;34m8\u001b[0m, \u001b[38;5;34m128\u001b[0m)      │             \u001b[38;5;34m0\u001b[0m │\n",
       "├─────────────────────────────────┼────────────────────────┼───────────────┤\n",
       "│ max_pooling2d_14 (\u001b[38;5;33mMaxPooling2D\u001b[0m) │ (\u001b[38;5;45mNone\u001b[0m, \u001b[38;5;34m4\u001b[0m, \u001b[38;5;34m4\u001b[0m, \u001b[38;5;34m128\u001b[0m)      │             \u001b[38;5;34m0\u001b[0m │\n",
       "├─────────────────────────────────┼────────────────────────┼───────────────┤\n",
       "│ flatten_4 (\u001b[38;5;33mFlatten\u001b[0m)             │ (\u001b[38;5;45mNone\u001b[0m, \u001b[38;5;34m2048\u001b[0m)           │             \u001b[38;5;34m0\u001b[0m │\n",
       "├─────────────────────────────────┼────────────────────────┼───────────────┤\n",
       "│ dense_11 (\u001b[38;5;33mDense\u001b[0m)                │ (\u001b[38;5;45mNone\u001b[0m, \u001b[38;5;34m512\u001b[0m)            │     \u001b[38;5;34m1,049,088\u001b[0m │\n",
       "├─────────────────────────────────┼────────────────────────┼───────────────┤\n",
       "│ dropout_10 (\u001b[38;5;33mDropout\u001b[0m)            │ (\u001b[38;5;45mNone\u001b[0m, \u001b[38;5;34m512\u001b[0m)            │             \u001b[38;5;34m0\u001b[0m │\n",
       "├─────────────────────────────────┼────────────────────────┼───────────────┤\n",
       "│ dense_12 (\u001b[38;5;33mDense\u001b[0m)                │ (\u001b[38;5;45mNone\u001b[0m, \u001b[38;5;34m256\u001b[0m)            │       \u001b[38;5;34m131,328\u001b[0m │\n",
       "├─────────────────────────────────┼────────────────────────┼───────────────┤\n",
       "│ dropout_11 (\u001b[38;5;33mDropout\u001b[0m)            │ (\u001b[38;5;45mNone\u001b[0m, \u001b[38;5;34m256\u001b[0m)            │             \u001b[38;5;34m0\u001b[0m │\n",
       "├─────────────────────────────────┼────────────────────────┼───────────────┤\n",
       "│ dense_13 (\u001b[38;5;33mDense\u001b[0m)                │ (\u001b[38;5;45mNone\u001b[0m, \u001b[38;5;34m100\u001b[0m)            │        \u001b[38;5;34m25,700\u001b[0m │\n",
       "└─────────────────────────────────┴────────────────────────┴───────────────┘\n"
      ]
     },
     "metadata": {},
     "output_type": "display_data"
    },
    {
     "data": {
      "text/html": [
       "<pre style=\"white-space:pre;overflow-x:auto;line-height:normal;font-family:Menlo,'DejaVu Sans Mono',consolas,'Courier New',monospace\"><span style=\"font-weight: bold\"> Total params: </span><span style=\"color: #00af00; text-decoration-color: #00af00\">1,300,260</span> (4.96 MB)\n",
       "</pre>\n"
      ],
      "text/plain": [
       "\u001b[1m Total params: \u001b[0m\u001b[38;5;34m1,300,260\u001b[0m (4.96 MB)\n"
      ]
     },
     "metadata": {},
     "output_type": "display_data"
    },
    {
     "data": {
      "text/html": [
       "<pre style=\"white-space:pre;overflow-x:auto;line-height:normal;font-family:Menlo,'DejaVu Sans Mono',consolas,'Courier New',monospace\"><span style=\"font-weight: bold\"> Trainable params: </span><span style=\"color: #00af00; text-decoration-color: #00af00\">1,299,812</span> (4.96 MB)\n",
       "</pre>\n"
      ],
      "text/plain": [
       "\u001b[1m Trainable params: \u001b[0m\u001b[38;5;34m1,299,812\u001b[0m (4.96 MB)\n"
      ]
     },
     "metadata": {},
     "output_type": "display_data"
    },
    {
     "data": {
      "text/html": [
       "<pre style=\"white-space:pre;overflow-x:auto;line-height:normal;font-family:Menlo,'DejaVu Sans Mono',consolas,'Courier New',monospace\"><span style=\"font-weight: bold\"> Non-trainable params: </span><span style=\"color: #00af00; text-decoration-color: #00af00\">448</span> (1.75 KB)\n",
       "</pre>\n"
      ],
      "text/plain": [
       "\u001b[1m Non-trainable params: \u001b[0m\u001b[38;5;34m448\u001b[0m (1.75 KB)\n"
      ]
     },
     "metadata": {},
     "output_type": "display_data"
    }
   ],
   "source": [
    "from keras.models import Sequential\n",
    "from keras.layers import Conv2D, MaxPooling2D, Flatten, Dense, Dropout, BatchNormalization, Activation\n",
    "from keras.optimizers import Adam, SGD\n",
    "\n",
    "# Your code here\n",
    "# Initialize the model\n",
    "model = Sequential()\n",
    "\n",
    "# 1st Convolutional Block\n",
    "model.add(Conv2D(32, (3, 3), activation=None, input_shape=(32, 32, 3), padding='same'))  # 32 filters, 3x3 kernel\n",
    "model.add(BatchNormalization())  # Batch Normalization\n",
    "model.add(Activation('relu'))    # Activation function after Batch Normalization\n",
    "model.add(MaxPooling2D(pool_size=(2, 2)))  # 2x2 max pooling\n",
    "\n",
    "# 2nd Convolutional Block\n",
    "model.add(Conv2D(64, (3, 3), activation=None, padding='same'))  # 64 filters, 3x3 kernel\n",
    "model.add(BatchNormalization())  # Batch Normalization\n",
    "model.add(Activation('relu'))    # Activation function after Batch Normalization\n",
    "model.add(MaxPooling2D(pool_size=(2, 2)))  # 2x2 max pooling\n",
    "\n",
    "# 3rd Convolutional Block\n",
    "model.add(Conv2D(128, (3, 3), activation=None, padding='same'))  # 128 filters, 3x3 kernel\n",
    "model.add(BatchNormalization())  # Batch Normalization\n",
    "model.add(Activation('relu'))    # Activation function after Batch Normalization\n",
    "model.add(MaxPooling2D(pool_size=(2, 2)))  # 2x2 max pooling\n",
    "\n",
    "# Flatten the output from the convolutional layers\n",
    "model.add(Flatten())\n",
    "\n",
    "# Fully Connected (Dense) Layers\n",
    "model.add(Dense(512, activation='relu'))  # Dense layer with 512 neurons\n",
    "model.add(Dropout(0.5))  # Dropout for regularization\n",
    "\n",
    "model.add(Dense(256, activation='relu'))  # Dense layer with 256 neurons\n",
    "model.add(Dropout(0.5))  # Dropout for regularization\n",
    "\n",
    "# Output Layer\n",
    "model.add(Dense(100, activation='softmax'))  \n",
    "\n",
    "model.summary()"
   ]
  },
  {
   "cell_type": "code",
   "execution_count": 48,
   "id": "00758934",
   "metadata": {},
   "outputs": [],
   "source": [
    "# Compile the model with Adam optimizer and categorical crossentropy loss\n",
    "model.compile(optimizer=SGD(learning_rate=0.01, momentum = 0.9), loss='categorical_crossentropy', metrics=['accuracy'])"
   ]
  },
  {
   "cell_type": "markdown",
   "id": "d9467a483a1dd5d3",
   "metadata": {
    "collapsed": false
   },
   "source": [
    "### Task 4b: Evaluation of the enhanced model\n",
    "\n",
    "- Re-train your model using the same number of epochs as before.\n",
    "- Compare the accuracy and other selected metric on the test set to the results you obtained before.\n",
    "- As before, plot the training accuracy and validation accuracy with respect to epochs, and select an image that the model correctly classified in the test set, and an image that the model incorrectly classified in the test set. Plot the images and report the model's classification probabilities for each."
   ]
  },
  {
   "cell_type": "code",
   "execution_count": 49,
   "id": "847ebefe",
   "metadata": {},
   "outputs": [
    {
     "name": "stdout",
     "output_type": "stream",
     "text": [
      "Epoch 1/25\n",
      "1250/1250 - 28s - 22ms/step - accuracy: 0.0322 - loss: 4.4144 - val_accuracy: 0.0202 - val_loss: 4.8897\n",
      "Epoch 2/25\n",
      "1250/1250 - 27s - 21ms/step - accuracy: 0.0524 - loss: 4.1667 - val_accuracy: 0.0818 - val_loss: 3.9279\n",
      "Epoch 3/25\n",
      "1250/1250 - 26s - 21ms/step - accuracy: 0.0753 - loss: 3.9898 - val_accuracy: 0.1230 - val_loss: 3.7356\n",
      "Epoch 4/25\n",
      "1250/1250 - 27s - 22ms/step - accuracy: 0.1057 - loss: 3.7762 - val_accuracy: 0.1626 - val_loss: 3.4615\n",
      "Epoch 5/25\n",
      "1250/1250 - 28s - 22ms/step - accuracy: 0.1404 - loss: 3.5681 - val_accuracy: 0.1697 - val_loss: 3.4611\n",
      "Epoch 6/25\n",
      "1250/1250 - 28s - 22ms/step - accuracy: 0.1757 - loss: 3.3592 - val_accuracy: 0.2209 - val_loss: 3.1582\n",
      "Epoch 7/25\n",
      "1250/1250 - 28s - 22ms/step - accuracy: 0.2122 - loss: 3.1639 - val_accuracy: 0.2538 - val_loss: 2.9486\n",
      "Epoch 8/25\n",
      "1250/1250 - 27s - 22ms/step - accuracy: 0.2416 - loss: 2.9974 - val_accuracy: 0.2862 - val_loss: 2.8350\n",
      "Epoch 9/25\n",
      "1250/1250 - 29s - 23ms/step - accuracy: 0.2734 - loss: 2.8468 - val_accuracy: 0.2928 - val_loss: 2.8222\n",
      "Epoch 10/25\n",
      "1250/1250 - 28s - 23ms/step - accuracy: 0.2995 - loss: 2.7018 - val_accuracy: 0.3139 - val_loss: 2.7041\n",
      "Epoch 11/25\n",
      "1250/1250 - 30s - 24ms/step - accuracy: 0.3215 - loss: 2.5989 - val_accuracy: 0.3394 - val_loss: 2.5521\n",
      "Epoch 12/25\n",
      "1250/1250 - 31s - 24ms/step - accuracy: 0.3437 - loss: 2.4919 - val_accuracy: 0.3636 - val_loss: 2.4303\n",
      "Epoch 13/25\n",
      "1250/1250 - 31s - 25ms/step - accuracy: 0.3634 - loss: 2.3930 - val_accuracy: 0.3631 - val_loss: 2.4589\n",
      "Epoch 14/25\n",
      "1250/1250 - 31s - 25ms/step - accuracy: 0.3842 - loss: 2.3005 - val_accuracy: 0.4050 - val_loss: 2.2644\n",
      "Epoch 15/25\n",
      "1250/1250 - 30s - 24ms/step - accuracy: 0.4019 - loss: 2.2150 - val_accuracy: 0.4062 - val_loss: 2.2426\n",
      "Epoch 16/25\n",
      "1250/1250 - 30s - 24ms/step - accuracy: 0.4191 - loss: 2.1338 - val_accuracy: 0.3707 - val_loss: 2.5090\n",
      "Epoch 17/25\n",
      "1250/1250 - 31s - 25ms/step - accuracy: 0.4347 - loss: 2.0583 - val_accuracy: 0.3503 - val_loss: 2.5848\n",
      "Epoch 18/25\n",
      "1250/1250 - 31s - 25ms/step - accuracy: 0.4525 - loss: 1.9816 - val_accuracy: 0.3878 - val_loss: 2.3686\n",
      "Epoch 19/25\n",
      "1250/1250 - 31s - 25ms/step - accuracy: 0.4658 - loss: 1.9225 - val_accuracy: 0.4118 - val_loss: 2.2792\n",
      "Epoch 20/25\n",
      "1250/1250 - 30s - 24ms/step - accuracy: 0.4854 - loss: 1.8462 - val_accuracy: 0.4259 - val_loss: 2.1936\n",
      "Epoch 21/25\n",
      "1250/1250 - 31s - 25ms/step - accuracy: 0.5003 - loss: 1.7823 - val_accuracy: 0.4219 - val_loss: 2.2631\n",
      "Epoch 22/25\n",
      "1250/1250 - 31s - 25ms/step - accuracy: 0.5098 - loss: 1.7304 - val_accuracy: 0.4009 - val_loss: 2.3496\n",
      "Epoch 23/25\n",
      "1250/1250 - 31s - 25ms/step - accuracy: 0.5242 - loss: 1.6779 - val_accuracy: 0.4274 - val_loss: 2.2319\n",
      "Epoch 24/25\n",
      "1250/1250 - 31s - 25ms/step - accuracy: 0.5346 - loss: 1.6270 - val_accuracy: 0.4355 - val_loss: 2.1990\n",
      "Epoch 25/25\n",
      "1250/1250 - 31s - 25ms/step - accuracy: 0.5497 - loss: 1.5740 - val_accuracy: 0.4090 - val_loss: 2.4048\n"
     ]
    }
   ],
   "source": [
    "\n",
    "# Train the model\n",
    "history = model.fit(\n",
    "    x_train_final, y_train_final,  # Training data and labels\n",
    "    epochs=25,                    # Number of epochs\n",
    "    batch_size=32,                # Batch size\n",
    "    validation_data=(x_val, y_val),  # Validation data\n",
    "    callbacks=EarlyStopping(monitor='val_loss', patience=5, restore_best_weights=True),   # Early stopping callback\n",
    "    verbose=2  # Show progress bar\n",
    ")"
   ]
  },
  {
   "cell_type": "code",
   "execution_count": 50,
   "id": "d5bc2ac6",
   "metadata": {},
   "outputs": [
    {
     "name": "stdout",
     "output_type": "stream",
     "text": [
      "\u001b[1m313/313\u001b[0m \u001b[32m━━━━━━━━━━━━━━━━━━━━\u001b[0m\u001b[37m\u001b[0m \u001b[1m2s\u001b[0m 6ms/step - accuracy: 0.4208 - loss: 2.2017\n",
      "Test Accuracy: 0.4226\n",
      "Test Loss: 2.2044\n"
     ]
    }
   ],
   "source": [
    "# Evaluate the model on the test set\n",
    "test_loss, test_accuracy = model.evaluate(x_test, y_test)\n",
    "print(f\"Test Accuracy: {test_accuracy:.4f}\")\n",
    "print(f\"Test Loss: {test_loss:.4f}\")"
   ]
  },
  {
   "cell_type": "code",
   "execution_count": 51,
   "id": "c27a01c5",
   "metadata": {},
   "outputs": [
    {
     "name": "stdout",
     "output_type": "stream",
     "text": [
      "\u001b[1m313/313\u001b[0m \u001b[32m━━━━━━━━━━━━━━━━━━━━\u001b[0m\u001b[37m\u001b[0m \u001b[1m2s\u001b[0m 6ms/step\n",
      "Precision per class:\n",
      "[0.77659574 0.44274809 0.22167488 0.234375   0.16455696 0.32743363\n",
      " 0.51724138 0.43410853 0.47413793 0.70666667 0.22155689 0.3253012\n",
      " 0.41346154 0.38028169 0.43835616 0.53571429 0.39230769 0.68181818\n",
      " 0.47945205 0.56818182 0.77777778 0.525      0.5483871  0.56779661\n",
      " 0.73239437 0.5        0.36842105 0.19117647 0.45508982 0.55932203\n",
      " 0.3255814  0.44827586 0.40350877 0.51648352 0.56451613 0.\n",
      " 0.49333333 0.52173913 0.46153846 0.65151515 0.50909091 0.71276596\n",
      " 0.30612245 0.50793651 0.24137931 0.21142857 0.26315789 0.46527778\n",
      " 0.51445087 0.61333333 0.29787234 0.61904762 0.52066116 0.65486726\n",
      " 0.53571429 0.13846154 0.47333333 0.61627907 0.54736842 0.27906977\n",
      " 0.67213115 0.37790698 0.5212766  0.32258065 0.3125     0.17204301\n",
      " 0.30275229 0.19072165 0.71304348 0.6039604  0.37931034 0.74626866\n",
      " 0.13253012 0.31386861 0.3        0.72164948 0.71428571 0.39393939\n",
      " 0.22666667 0.3852459  0.12135922 0.29460581 0.64347826 0.29365079\n",
      " 0.47368421 0.47580645 0.51020408 0.46825397 0.32835821 0.45454545\n",
      " 0.44086022 0.52173913 0.23880597 0.15151515 0.70588235 0.57142857\n",
      " 0.32307692 0.35074627 0.25925926 0.48051948]\n",
      "Macro Average Precision: 0.4399\n"
     ]
    }
   ],
   "source": [
    "from sklearn.metrics import precision_score\n",
    "import numpy as np\n",
    "\n",
    "# Predict the class probabilities on the test set\n",
    "y_pred = model.predict(x_test)\n",
    "\n",
    "# Convert predictions from probabilities to class labels (argmax)\n",
    "y_pred_classes = np.argmax(y_pred, axis=1)\n",
    "y_true_classes = np.argmax(y_test, axis=1)\n",
    "\n",
    "# Compute Precision (per class and macro average)\n",
    "precision = precision_score(y_true_classes, y_pred_classes, average=None)  # Precision for each class\n",
    "precision_macro = precision_score(y_true_classes, y_pred_classes, average='macro')  # Macro average precision\n",
    "\n",
    "# Print Precision for each class\n",
    "print(\"Precision per class:\")\n",
    "print(precision)\n",
    "\n",
    "# Print Macro average Precision\n",
    "print(f\"Macro Average Precision: {precision_macro:.4f}\")\n"
   ]
  },
  {
   "cell_type": "code",
   "execution_count": 52,
   "id": "7f309bfc",
   "metadata": {},
   "outputs": [
    {
     "data": {
      "image/png": "[encoded data removed]",
      "text/plain": [
       "<Figure size 1000x600 with 1 Axes>"
      ]
     },
     "metadata": {},
     "output_type": "display_data"
    }
   ],
   "source": [
    "# Your code here\n",
    "import matplotlib.pyplot as plt\n",
    "\n",
    "# Plotting the training and validation accuracy\n",
    "plt.figure(figsize=(10, 6))\n",
    "plt.plot(history.history['accuracy'], label='Training Accuracy', color='blue')\n",
    "plt.plot(history.history['val_accuracy'], label='Validation Accuracy', color='orange')\n",
    "plt.title('Training and Validation Accuracy')\n",
    "plt.xlabel('Epochs')\n",
    "plt.ylabel('Accuracy')\n",
    "plt.legend()\n",
    "plt.grid(True)\n",
    "plt.show()\n"
   ]
  },
  {
   "cell_type": "code",
   "execution_count": 56,
   "id": "7463580b",
   "metadata": {},
   "outputs": [
    {
     "name": "stdout",
     "output_type": "stream",
     "text": [
      "\u001b[1m313/313\u001b[0m \u001b[32m━━━━━━━━━━━━━━━━━━━━\u001b[0m\u001b[37m\u001b[0m \u001b[1m2s\u001b[0m 6ms/step\n",
      "\u001b[1m313/313\u001b[0m \u001b[32m━━━━━━━━━━━━━━━━━━━━\u001b[0m\u001b[37m\u001b[0m \u001b[1m2s\u001b[0m 6ms/step\n",
      "\u001b[1m1/1\u001b[0m \u001b[32m━━━━━━━━━━━━━━━━━━━━\u001b[0m\u001b[37m\u001b[0m \u001b[1m0s\u001b[0m 10ms/step\n",
      "\u001b[1m1/1\u001b[0m \u001b[32m━━━━━━━━━━━━━━━━━━━━\u001b[0m\u001b[37m\u001b[0m \u001b[1m0s\u001b[0m 10ms/step\n"
     ]
    },
    {
     "data": {
      "image/png": "[encoded data removed]",
      "text/plain": [
       "<Figure size 1200x500 with 2 Axes>"
      ]
     },
     "metadata": {},
     "output_type": "display_data"
    },
    {
     "name": "stdout",
     "output_type": "stream",
     "text": [
      "Correctly classified image probabilities: [[4.05979226e-05 1.65488582e-05 2.53635772e-05 2.58922846e-05\n",
      "  1.03595066e-05 1.05190448e-01 5.56248835e-07 8.65602658e-07\n",
      "  1.43502871e-06 3.66939115e-04 1.49271323e-03 1.45661897e-05\n",
      "  1.60144613e-04 1.83797383e-05 1.27131159e-06 1.02785118e-04\n",
      "  1.07201585e-03 4.29390457e-05 3.48679896e-06 7.65362871e-04\n",
      "  2.63056643e-02 8.07748464e-08 2.72329547e-03 5.65738046e-05\n",
      "  3.69788449e-06 1.75471216e-01 3.29537324e-05 4.97266547e-06\n",
      "  1.24412228e-03 6.71899397e-06 4.77204232e-08 5.03985102e-05\n",
      "  1.12803045e-05 6.80036144e-04 6.32684169e-05 7.49317769e-06\n",
      "  8.23634386e-04 2.73063706e-05 1.27514375e-06 6.88769098e-04\n",
      "  6.81626901e-04 5.22505559e-07 9.63339044e-05 1.19556418e-04\n",
      "  2.11357328e-05 1.32860105e-05 7.78599042e-06 2.81458033e-05\n",
      "  3.82602039e-08 6.28454245e-07 5.64449510e-05 2.20643760e-05\n",
      "  2.89687648e-07 1.45555037e-04 1.16988315e-06 4.85160808e-06\n",
      "  1.90178852e-07 9.18369260e-05 1.64809671e-06 2.66466628e-07\n",
      "  1.04791688e-04 1.55398171e-04 1.52354426e-06 7.64148535e-06\n",
      "  3.65365304e-06 4.34158545e-04 3.97640804e-07 9.82216898e-06\n",
      "  3.24437110e-06 2.88531191e-06 1.98123962e-05 2.12939667e-05\n",
      "  3.22393453e-06 2.00664999e-07 1.17777199e-06 1.84137036e-07\n",
      "  3.27060479e-05 1.01470514e-05 9.48208890e-06 9.79743345e-06\n",
      "  2.86615141e-05 1.10044261e-04 6.04660181e-06 4.33742825e-05\n",
      "  4.50399630e-02 9.80575692e-07 6.49364258e-04 2.38008425e-02\n",
      "  6.91676250e-05 2.08073379e-05 1.40076929e-06 1.12788348e-06\n",
      "  7.12868859e-06 8.92908645e-07 6.10378921e-01 8.87302249e-08\n",
      "  2.39406727e-05 6.31120884e-07 7.49710671e-05 6.12165604e-05]]\n",
      "Incorrectly classified image probabilities: [[9.82305850e-04 2.86467286e-04 3.45836967e-01 2.37563465e-04\n",
      "  3.98886215e-04 5.84766502e-03 2.72206060e-04 5.62542773e-05\n",
      "  1.07603184e-04 1.18351146e-03 7.30101718e-03 2.19563574e-01\n",
      "  3.61095736e-05 7.26363069e-05 4.72123676e-04 1.86082776e-04\n",
      "  2.40101363e-03 4.21977893e-06 8.89683652e-05 1.18074655e-04\n",
      "  1.87382684e-04 2.61677685e-03 1.04356406e-03 6.60701699e-05\n",
      "  1.12697824e-04 2.14858470e-03 8.10924626e-04 1.28370244e-04\n",
      "  1.19522610e-03 4.75605630e-05 2.83122008e-05 5.82260873e-05\n",
      "  9.10415687e-03 1.95945941e-05 2.98308121e-04 1.46456212e-01\n",
      "  7.27445912e-03 1.06665859e-04 7.99132758e-05 2.49549252e-04\n",
      "  7.93321931e-04 1.50213324e-04 5.60602966e-05 1.32989269e-04\n",
      "  2.69142300e-04 2.88285711e-03 1.05619214e-01 1.11844638e-05\n",
      "  4.80015151e-05 9.63794173e-06 1.19755021e-03 8.15221458e-04\n",
      "  5.66317169e-07 1.21248384e-04 6.33873919e-04 2.64459784e-04\n",
      "  4.50481202e-05 4.46750317e-04 2.41775968e-04 1.04644214e-05\n",
      "  1.12654936e-06 2.02568807e-03 1.95018103e-04 1.16473784e-04\n",
      "  1.07144541e-03 1.91951240e-03 1.87455793e-04 1.50687527e-04\n",
      "  4.14606120e-06 3.88792287e-05 9.62397666e-04 1.98989492e-05\n",
      "  4.89919097e-04 1.48993407e-04 1.22316691e-04 1.03308357e-05\n",
      "  5.17029184e-05 6.90205430e-04 7.10227061e-04 6.23770466e-05\n",
      "  1.70727086e-03 1.77982467e-04 2.20531801e-05 2.90797063e-04\n",
      "  3.70225497e-03 1.09766743e-05 6.37990306e-04 1.29929453e-03\n",
      "  5.46977564e-04 6.24591921e-05 6.41701845e-05 2.32465871e-04\n",
      "  5.26475837e-04 3.31576768e-04 3.56294709e-04 3.43009488e-05\n",
      "  2.88058800e-06 4.64224635e-04 1.09162427e-01 1.52923283e-04]]\n"
     ]
    }
   ],
   "source": [
    "# Randomly select an image index from the test set\n",
    "correct_idx = np.argmax(y_test, axis=1) == np.argmax(model.predict(x_test), axis=1)\n",
    "incorrect_idx = np.argmax(y_test, axis=1) != np.argmax(model.predict(x_test), axis=1)\n",
    "\n",
    "# Correctly classified image\n",
    "correct_image_idx = np.random.choice(np.where(correct_idx)[0])\n",
    "correct_image = x_test[correct_image_idx]\n",
    "correct_label = y_test[correct_image_idx]\n",
    "correct_pred = model.predict(np.expand_dims(correct_image, axis=0))\n",
    "correct_pred_label = np.argmax(correct_pred)\n",
    "\n",
    "# Incorrectly classified image\n",
    "incorrect_image_idx = np.random.choice(np.where(incorrect_idx)[0])\n",
    "incorrect_image = x_test[incorrect_image_idx]\n",
    "incorrect_label = y_test[incorrect_image_idx]\n",
    "incorrect_pred = model.predict(np.expand_dims(incorrect_image, axis=0))\n",
    "incorrect_pred_label = np.argmax(incorrect_pred)\n",
    "\n",
    "# Plotting the correctly classified image\n",
    "plt.figure(figsize=(12, 5))\n",
    "plt.subplot(1, 2, 1)\n",
    "plt.imshow(correct_image)\n",
    "plt.title(f\"True: {np.argmax(correct_label)}, Pred: {correct_pred_label}\")\n",
    "plt.axis('off')\n",
    "\n",
    "# Plotting the incorrectly classified image\n",
    "plt.subplot(1, 2, 2)\n",
    "plt.imshow(incorrect_image)\n",
    "plt.title(f\"True: {np.argmax(incorrect_label)}, Pred: {incorrect_pred_label}\")\n",
    "plt.axis('off')\n",
    "plt.show()\n",
    "\n",
    "# Print model probabilities for both images\n",
    "print(f\"Correctly classified image probabilities: {correct_pred}\")\n",
    "print(f\"Incorrectly classified image probabilities: {incorrect_pred}\")\n"
   ]
  },
  {
   "cell_type": "markdown",
   "id": "eadfc848700215e8",
   "metadata": {
    "collapsed": false
   },
   "source": [
    "### Task 4c: Discussion of the results\n",
    "\n",
    "- Briefly discuss the results. \n",
    "- Did the model's performance improve? \n",
    "- Why do you think this is?\n",
    "- Do you think there is room for further improvement? Why or why not?\n",
    "- What other techniques might you try in the future?\n",
    "- Your answer should be no more than 200 words.\n",
    "\n",
    "# Your answer here"
   ]
  },
  {
   "cell_type": "markdown",
   "id": "529c8db0",
   "metadata": {},
   "source": [
    "The model's performance improved significantly after switching to SGD with a learning rate of 0.01, achieving 54.97% training accuracy and 40.90% validation accuracy at the end of 25 epochs, compared to the initial results with Adam. This improvement likely stems from SGD's more controlled updates, which can help avoid the pitfalls of getting stuck in sharp minima, providing a smoother path to generalization. The learning rate of 0.01 seems to have helped the model converge more effectively without overshooting.\n",
    "\n",
    "However, there is still room for improvement. While the model shows progress, the validation accuracy suggests that it could benefit from further regularization (e.g., Dropout or Batch Normalization) to prevent overfitting and better generalize to unseen data. Additionally, experimenting with learning rate schedules or momentum in SGD could accelerate convergence and improve performance.\n",
    "\n",
    "These are few other techniques we can try:\n",
    "\n",
    "Learning Rate Scheduler:  To dynamically adjust the learning rate during training.\n",
    "Data Augmentation:    To artificially increase the size of the training dataset, improving generalization.\n",
    "Transfer Learning:   using pre-trained models like VGG16 or ResNet for better feature extraction.\n",
    "These methods could help push the model towards higher accuracy and better generalization.\n",
    "\n",
    "\n",
    "\n"
   ]
  },
  {
   "cell_type": "markdown",
   "id": "7415f68f",
   "metadata": {},
   "source": [
    "## Criteria\n",
    "\n",
    "|Criteria|Complete|Incomplete|\n",
    "|----|----|----|\n",
    "|Task 1|The task has been completed successfully and there are no errors.|The task is still incomplete and there is at least one error.|\n",
    "|Task 2|The task has been completed successfully and there are no errors.|The task is still incomplete and there is at least one error.|\n",
    "|Task 3|The task has been completed successfully and there are no errors.|The task is still incomplete and there is at least one error.|\n",
    "|Task 4|The task has been completed successfully and there are no errors.|The task is still incomplete and there is at least one error.|"
   ]
  },
  {
   "cell_type": "markdown",
   "id": "ad0c10bc",
   "metadata": {},
   "source": [
    "## Submission Information\n",
    "\n",
    "🚨 **Please review our [Assignment Submission Guide](https://github.com/UofT-DSI/onboarding/blob/main/onboarding_documents/submissions.md)** 🚨 for detailed instructions on how to format, branch, and submit your work. Following these guidelines is crucial for your submissions to be evaluated correctly.\n",
    "\n",
    "### Submission Parameters:\n",
    "* Submission Due Date: `HH:MM AM/PM - DD/MM/YYYY`\n",
    "* The branch name for your repo should be: `assignment-1`\n",
    "* What to submit for this assignment:\n",
    "    * This Jupyter Notebook (assignment_1.ipynb) should be populated and should be the only change in your pull request.\n",
    "* What the pull request link should look like for this assignment: `https://github.com/<your_github_username>/deep_learning/pull/<pr_id>`\n",
    "    * Open a private window in your browser. Copy and paste the link to your pull request into the address bar. Make sure you can see your pull request properly. This helps the technical facilitator and learning support staff review your submission easily.\n",
    "\n",
    "Checklist:\n",
    "- [ ] Created a branch with the correct naming convention.\n",
    "- [ ] Ensured that the repository is public.\n",
    "- [ ] Reviewed the PR description guidelines and adhered to them.\n",
    "- [ ] Verify that the link is accessible in a private browser window.\n",
    "\n",
    "If you encounter any difficulties or have questions, please don't hesitate to reach out to our team via our Slack at `#cohort-3-help`. Our Technical Facilitators and Learning Support staff are here to help you navigate any challenges."
   ]
  }
 ],
 "metadata": {
  "kernelspec": {
   "display_name": "Python 3 (ipykernel)",
   "language": "python",
   "name": "python3"
  },
  "language_info": {
   "codemirror_mode": {
    "name": "ipython",
    "version": 3
   },
   "file_extension": ".py",
   "mimetype": "text/x-python",
   "name": "python",
   "nbconvert_exporter": "python",
   "pygments_lexer": "ipython3",
   "version": "3.9.19"
  }
 },
 "nbformat": 4,
 "nbformat_minor": 5
}
